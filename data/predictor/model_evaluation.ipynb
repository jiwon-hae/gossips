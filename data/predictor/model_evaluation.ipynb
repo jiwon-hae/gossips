{
 "cells": [
  {
   "cell_type": "code",
   "execution_count": 1,
   "metadata": {},
   "outputs": [],
   "source": [
    "import os\n",
    "import sys\n",
    "import numpy as np\n",
    "import pandas as pd\n",
    "import matplotlib.pyplot as plt\n",
    "import seaborn as sns\n",
    "import joblib\n",
    "from pathlib import Path\n",
    "from typing import List, Dict, Any\n",
    "import warnings\n",
    "warnings.filterwarnings('ignore')\n",
    "\n",
    "# Set up paths\n",
    "project_root = os.path.abspath(os.path.join(os.getcwd(), '..', '..'))\n",
    "if project_root not in sys.path:\n",
    "    sys.path.insert(0, project_root)\n",
    "    \n",
    "\n",
    "# Import your classes\n",
    "from data.collection.models import TrainingDataSample, ClassificationResult\n",
    "from data.collection.config import EventCategory\n",
    "from ml_classifier import CelebrityMLClassifier, ModelMetrics, TrainingConfig"
   ]
  },
  {
   "cell_type": "code",
   "execution_count": 2,
   "metadata": {},
   "outputs": [],
   "source": [
    "# Set plotting style\n",
    "plt.style.use('seaborn-v0_8')\n",
    "sns.set_palette(\"husl\")"
   ]
  },
  {
   "cell_type": "code",
   "execution_count": 9,
   "metadata": {},
   "outputs": [
    {
     "name": "stdout",
     "output_type": "stream",
     "text": [
      "Loading models from: models\n",
      "Loading celebrity_classifier_logistic_regression.pkl...\n",
      "   Trained at: 2025-06-28 02:34:09.103122\n",
      "   Model type: logistic_regression\n",
      "Loading models from: models\n",
      "Loading celebrity_classifier_naive_bayes.pkl...\n",
      "   Trained at: 2025-06-28 02:34:09.024826\n",
      "   Model type: naive_bayes\n",
      "Loading models from: models\n",
      "Loading celebrity_classifier_random_forest.pkl...\n",
      "   Trained at: 2025-06-28 02:34:08.969200\n",
      "   Model type: random_forest\n"
     ]
    },
    {
     "ename": "AttributeError",
     "evalue": "'dict' object has no attribute 'config'",
     "output_type": "error",
     "traceback": [
      "\u001b[31m---------------------------------------------------------------------------\u001b[39m",
      "\u001b[31mAttributeError\u001b[39m                            Traceback (most recent call last)",
      "\u001b[36mCell\u001b[39m\u001b[36m \u001b[39m\u001b[32mIn[9]\u001b[39m\u001b[32m, line 31\u001b[39m\n\u001b[32m     28\u001b[39m naive_bayes = load_model(\u001b[33m'\u001b[39m\u001b[33mcelebrity_classifier_naive_bayes.pkl\u001b[39m\u001b[33m'\u001b[39m)\n\u001b[32m     29\u001b[39m random_forest = load_model(\u001b[33m'\u001b[39m\u001b[33mcelebrity_classifier_random_forest.pkl\u001b[39m\u001b[33m'\u001b[39m)\n\u001b[32m---> \u001b[39m\u001b[32m31\u001b[39m \u001b[43mlogistic_regression\u001b[49m\u001b[43m.\u001b[49m\u001b[43mconfig\u001b[49m\n",
      "\u001b[31mAttributeError\u001b[39m: 'dict' object has no attribute 'config'"
     ]
    }
   ],
   "source": [
    "models_dir = 'models'\n",
    "models_dir = Path(models_dir) if models_dir else Path(project_root) / \"models\"\n",
    "        \n",
    "def load_model(model_name):\n",
    "    \"\"\"Load all .pkl models from the models directory\"\"\"\n",
    "    print(f\"Loading models from: {models_dir}\")\n",
    "    model_path = Path(models_dir, model_name)\n",
    "    \n",
    "    if not model_path.exists():\n",
    "        print(f\"Models directory not found: {model_path}\")\n",
    "        return\n",
    "\n",
    "    try:\n",
    "        print(f\"Loading {model_name}...\")\n",
    "        model_data = joblib.load(model_path)\n",
    "        \n",
    "        if 'trained_at' in model_data:\n",
    "            print(f\"   Trained at: {model_data['trained_at']}\")\n",
    "        if 'config' in model_data:\n",
    "            print(f\"   Model type: {model_data['config'].model_type}\")\n",
    "        \n",
    "        return model_data\n",
    "    except Exception as e:\n",
    "        print(f\"❌ Failed to load {model_name}: {e}\")\n",
    "    \n",
    "    \n",
    "logistic_regression = load_model('celebrity_classifier_logistic_regression.pkl')\n",
    "naive_bayes = load_model('celebrity_classifier_naive_bayes.pkl')\n",
    "random_forest = load_model('celebrity_classifier_random_forest.pkl')\n"
   ]
  },
  {
   "cell_type": "code",
   "execution_count": null,
   "metadata": {},
   "outputs": [],
   "source": [
    "def create_comparison_dataframe(model_metrics) -> pd.DataFrame:\n",
    "    \"\"\"Create a DataFrame comparing all models\"\"\"\n",
    "    comparison_data = []\n",
    "    \n",
    "    for model_name, metrics in model_metrics.items():\n",
    "        model_config = loaded_models[model_name].get('config')\n",
    "        \n",
    "        row = {\n",
    "            'Model Name': model_name,\n",
    "            'Model Type': model_config.model_type if model_config else 'Unknown',\n",
    "            'Accuracy': metrics.accuracy,\n",
    "            'Training Samples': metrics.training_samples,\n",
    "            'Test Samples': metrics.test_samples,\n",
    "            'CV Mean': np.mean(metrics.cross_val_scores),\n",
    "            'CV Std': np.std(metrics.cross_val_scores)\n",
    "        }\n",
    "        \n",
    "        # Add per-class F1 scores\n",
    "        for category in EventCategory:\n",
    "            if category.value in metrics.f1_score:\n",
    "                row[f'F1_{category.value}'] = metrics.f1_score[category.value]\n",
    "        \n",
    "        comparison_data.append(row)\n",
    "    \n",
    "    return pd.DataFrame(comparison_data)"
   ]
  },
  {
   "cell_type": "code",
   "execution_count": null,
   "metadata": {},
   "outputs": [],
   "source": []
  },
  {
   "cell_type": "code",
   "execution_count": null,
   "metadata": {},
   "outputs": [],
   "source": []
  },
  {
   "cell_type": "code",
   "execution_count": null,
   "metadata": {},
   "outputs": [],
   "source": []
  },
  {
   "cell_type": "code",
   "execution_count": null,
   "metadata": {},
   "outputs": [],
   "source": []
  },
  {
   "cell_type": "code",
   "execution_count": null,
   "metadata": {},
   "outputs": [],
   "source": []
  }
 ],
 "metadata": {
  "kernelspec": {
   "display_name": "rag_llamaindex",
   "language": "python",
   "name": "python3"
  },
  "language_info": {
   "codemirror_mode": {
    "name": "ipython",
    "version": 3
   },
   "file_extension": ".py",
   "mimetype": "text/x-python",
   "name": "python",
   "nbconvert_exporter": "python",
   "pygments_lexer": "ipython3",
   "version": "3.13.5"
  }
 },
 "nbformat": 4,
 "nbformat_minor": 2
}
